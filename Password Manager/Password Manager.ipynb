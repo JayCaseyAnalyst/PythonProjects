{
 "cells": [
  {
   "cell_type": "code",
   "execution_count": 1,
   "id": "68f754a3",
   "metadata": {},
   "outputs": [],
   "source": [
    "from cryptography.fernet import Fernet\n",
    "import string\n",
    "import random\n",
    "import time"
   ]
  },
  {
   "cell_type": "code",
   "execution_count": 2,
   "id": "2acf8c7b",
   "metadata": {},
   "outputs": [
    {
     "data": {
      "text/plain": [
       "\"\\ndef gen_key():\\n    key = Fernet.generate_key()\\n    with open('key.key', 'wb') as file:\\n        file.write(key)\\n    \\ngen_key()\\n\""
      ]
     },
     "execution_count": 2,
     "metadata": {},
     "output_type": "execute_result"
    }
   ],
   "source": [
    "'''\n",
    "def gen_key():\n",
    "    key = Fernet.generate_key()\n",
    "    with open('key.key', 'wb') as file:\n",
    "        file.write(key)\n",
    "    \n",
    "gen_key()\n",
    "'''"
   ]
  },
  {
   "cell_type": "code",
   "execution_count": 3,
   "id": "d0e854fe",
   "metadata": {},
   "outputs": [],
   "source": [
    "def load_key():\n",
    "    file = open('key.key', 'rb')\n",
    "    key = file.read()\n",
    "    file.close()\n",
    "    return key\n",
    "\n",
    "key = load_key()\n",
    "fer = Fernet(key)"
   ]
  },
  {
   "cell_type": "code",
   "execution_count": 4,
   "id": "5a45aa47",
   "metadata": {},
   "outputs": [],
   "source": [
    "letters = string.ascii_letters\n",
    "chars = string.punctuation\n",
    "chars = chars.replace(\"|\", \"\")\n",
    "nums = string.digits\n",
    "\n",
    "def create_pass():\n",
    "    web = input(\"Website?\")\n",
    "    user_name = input(\"Username/email?\")\n",
    "    length = int(input(\"Password Minimum Length?\"))\n",
    "    pw = ''\n",
    "\n",
    "    lis = letters + chars + (nums*3)\n",
    "        \n",
    "    while len(pw) < length:\n",
    "        new = random.choice(lis)\n",
    "        pw += new\n",
    "        \n",
    "    with open('secretaccess.text', 'a') as file:\n",
    "        file.write(web + '|' + user_name + '|' + fer.encrypt(pw.encode()).decode() + '\\n')\n",
    "        \n",
    "    return pw\n",
    "\n",
    "def view_pass():\n",
    "    with open(\"secretaccess.text\", 'r') as file:\n",
    "            for line in file:\n",
    "                data = line.rstrip()\n",
    "                web, user, pw = data.split(\"|\")\n",
    "                print(web, \" | \", user, \" | \", fer.decrypt(pw.encode()).decode())"
   ]
  },
  {
   "cell_type": "code",
   "execution_count": 5,
   "id": "c08d5586",
   "metadata": {},
   "outputs": [
    {
     "name": "stdout",
     "output_type": "stream",
     "text": [
      "Add new password or view existing? (add/view) q to quitq\n"
     ]
    }
   ],
   "source": [
    "while True:\n",
    "    mode = input(\"Add new password or view existing? (add/view) q to quit\")\n",
    "\n",
    "    if mode == \"q\":\n",
    "        break\n",
    "    if mode == 'add':\n",
    "        create_pass()\n",
    "        pass\n",
    "    elif mode == 'view':\n",
    "        view_pass()\n",
    "        pass\n"
   ]
  },
  {
   "cell_type": "code",
   "execution_count": null,
   "id": "562eb438",
   "metadata": {},
   "outputs": [],
   "source": []
  },
  {
   "cell_type": "code",
   "execution_count": null,
   "id": "c21638e5",
   "metadata": {},
   "outputs": [],
   "source": []
  },
  {
   "cell_type": "code",
   "execution_count": null,
   "id": "945f6d68",
   "metadata": {},
   "outputs": [],
   "source": []
  },
  {
   "cell_type": "code",
   "execution_count": null,
   "id": "457a6ad4",
   "metadata": {},
   "outputs": [],
   "source": []
  },
  {
   "cell_type": "code",
   "execution_count": null,
   "id": "994da600",
   "metadata": {},
   "outputs": [],
   "source": []
  },
  {
   "cell_type": "code",
   "execution_count": null,
   "id": "c20b2945",
   "metadata": {},
   "outputs": [],
   "source": []
  },
  {
   "cell_type": "code",
   "execution_count": null,
   "id": "6464f3aa",
   "metadata": {},
   "outputs": [],
   "source": []
  }
 ],
 "metadata": {
  "kernelspec": {
   "display_name": "Python 3 (ipykernel)",
   "language": "python",
   "name": "python3"
  },
  "language_info": {
   "codemirror_mode": {
    "name": "ipython",
    "version": 3
   },
   "file_extension": ".py",
   "mimetype": "text/x-python",
   "name": "python",
   "nbconvert_exporter": "python",
   "pygments_lexer": "ipython3",
   "version": "3.11.5"
  }
 },
 "nbformat": 4,
 "nbformat_minor": 5
}
